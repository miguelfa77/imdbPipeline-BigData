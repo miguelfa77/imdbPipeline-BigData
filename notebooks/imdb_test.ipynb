{
 "cells": [
  {
   "cell_type": "code",
   "execution_count": 1,
   "metadata": {},
   "outputs": [],
   "source": [
    "import pandas as pd\n",
    "import gzip\n",
    "import requests\n",
    "import io"
   ]
  },
  {
   "cell_type": "code",
   "execution_count": 5,
   "metadata": {},
   "outputs": [
    {
     "name": "stdout",
     "output_type": "stream",
     "text": [
      "0: title_basics.tsv\n",
      "1: title_crew.tsv\n",
      "2: name_basics.tsv\n",
      "3: title_akas.tsv\n",
      "4: title_episode.tsv\n",
      "5: title_principals.tsv\n"
     ]
    }
   ],
   "source": [
    "import subprocess\n",
    "import pandas as pd\n",
    "import os\n",
    "data = {}\n",
    "\n",
    "for index, filename in enumerate(os.listdir('/Users/miguelfa/Desktop/BigDataProject/imdb')):\n",
    "    f = os.path.join('/Users/miguelfa/Desktop/BigDataProject/imdb', filename)\n",
    "\n",
    "    data[index] = pd.read_csv(f, sep=\"\\t\", na_values=\"\\\\N\", dtype=str)\n",
    "    print(f'{index}: {filename}')"
   ]
  },
  {
   "cell_type": "code",
   "execution_count": 5,
   "metadata": {},
   "outputs": [],
   "source": [
    "file = 'title.akas'\n",
    "url = f'https://datasets.imdbws.com/{file}.tsv.gz'\n",
    "\n",
    "response = requests.get(url)\n",
    "\n",
    "df = pd.read_csv(io.BytesIO(response.content), compression='gzip', sep='\\t', low_memory=False, na_values=\"\\\\N\")"
   ]
  },
  {
   "cell_type": "code",
   "execution_count": 6,
   "metadata": {},
   "outputs": [
    {
     "name": "stdout",
     "output_type": "stream",
     "text": [
      "<class 'pandas.core.frame.DataFrame'>\n",
      "RangeIndex: 38922826 entries, 0 to 38922825\n",
      "Data columns (total 8 columns):\n",
      " #   Column           Dtype \n",
      "---  ------           ----- \n",
      " 0   titleId          object\n",
      " 1   ordering         object\n",
      " 2   title            object\n",
      " 3   region           object\n",
      " 4   language         object\n",
      " 5   types            object\n",
      " 6   attributes       object\n",
      " 7   isOriginalTitle  object\n",
      "dtypes: object(8)\n",
      "memory usage: 2.3+ GB\n"
     ]
    }
   ],
   "source": [
    "dbt:\n",
    "    image: \n",
    "    command:\n",
    "      [\n",
    "        \"dbt\",\n",
    "        \"run\",\n",
    "        \"--profiles-dir\",\n",
    "        \"/dbt\",\n",
    "        \"--project-dir\",\n",
    "        \"/dbt\"\n",
    "      ]\n",
    "    networks:\n",
    "      - etl_network\n",
    "    volumes:\n",
    "      - ./mysql_transformations:/dbt\n",
    "      - ~/.dbt:/root\n",
    "    depends_on:\n",
    "      - etl\n",
    "      - destination_mysql\n",
    "    environment:\n",
    "      DBT_PROFILE: default\n",
    "      DBT_TARGET: dev\n"
   ]
  }
 ],
 "metadata": {
  "kernelspec": {
   "display_name": "Python 3",
   "language": "python",
   "name": "python3"
  },
  "language_info": {
   "codemirror_mode": {
    "name": "ipython",
    "version": 3
   },
   "file_extension": ".py",
   "mimetype": "text/x-python",
   "name": "python",
   "nbconvert_exporter": "python",
   "pygments_lexer": "ipython3",
   "version": "3.11.5"
  }
 },
 "nbformat": 4,
 "nbformat_minor": 2
}
